{
 "cells": [
  {
   "cell_type": "markdown",
   "metadata": {},
   "source": [
    "### Create a table/data frame with the closing prices of 30 different stocks, with 10 from each of the caps"
   ]
  },
  {
   "cell_type": "code",
   "execution_count": 1,
   "metadata": {},
   "outputs": [],
   "source": [
    "import pandas as pd \n",
    "import numpy as np\n",
    "import os\n",
    "os.chdir('D:/Datasets/')\n",
    "\n",
    "stock=pd.DataFrame()\n",
    "\n",
    "# Large Caps\n",
    "adaniports=pd.read_csv('ADANIPORTS.csv')\n",
    "stock['ADANIPORTS']=adaniports['Close Price']\n",
    "\n",
    "asianpaint=pd.read_csv('ASIANPAINT.csv')\n",
    "stock['ASIANPAINT']=asianpaint['Close Price']\n",
    "\n",
    "axisbank=pd.read_csv('AXISBANK.csv')\n",
    "stock['AXISBANK']=axisbank['Close Price']\n",
    "\n",
    "bajfinance=pd.read_csv('BAJFINANCE.csv')\n",
    "stock['BAJFINANCE']=bajfinance['Close Price']\n",
    "\n",
    "bpcl=pd.read_csv('BPCL.csv')\n",
    "stock['BPCL']=bpcl['Close Price']\n",
    "\n",
    "cipla=pd.read_csv('CIPLA.csv')\n",
    "stock['CIPLA']=cipla['Close Price']\n",
    "\n",
    "drreddy=pd.read_csv('DRREDDY.csv')\n",
    "stock['DRREDDY']=drreddy['Close Price']\n",
    "\n",
    "eichermot=pd.read_csv('EICHERMOT.csv')\n",
    "stock['EICHERMOT']=eichermot['Close Price']\n",
    "\n",
    "gail=pd.read_csv('GAIL.csv')\n",
    "stock['GAIL']=gail['Close Price']\n",
    "\n",
    "hdfc=pd.read_csv('HDFC.csv')\n",
    "stock['HDFC']=hdfc['Close Price']\n",
    "\n",
    "# Mid Caps\n",
    "mrpl=pd.read_csv('MRPL.csv')\n",
    "stock['MRPL']=mrpl['Close Price']\n",
    "\n",
    "muthootfin=pd.read_csv('MUTHOOTFIN.csv')\n",
    "stock['MUTHOOTFIN']=muthootfin['Close Price']\n",
    "\n",
    "nbcc=pd.read_csv('NBCC.csv')\n",
    "stock['NBCC']=nbcc['Close Price']\n",
    "\n",
    "pnb=pd.read_csv('PNB.csv')\n",
    "stock['PNB']=pnb['Close Price']\n",
    "\n",
    "rblbank=pd.read_csv('RBLBANK.csv')\n",
    "stock['RBLBANK']=rblbank['Close Price']\n",
    "         \n",
    "relinfra=pd.read_csv('RELINFRA.csv')\n",
    "stock['RELINFRA']=relinfra['Close Price']\n",
    "\n",
    "suntv=pd.read_csv('SUNTV.csv')\n",
    "stock['SUNTV']=suntv['Close Price']\n",
    "\n",
    "tatachem=pd.read_csv('TATACHEM.csv')\n",
    "stock['TATACHEM']=tatachem['Close Price']\n",
    "\n",
    "tatapower=pd.read_csv('TATAPOWER.csv')\n",
    "stock['TATAPOWER']=tatapower['Close Price']\n",
    "\n",
    "voltas=pd.read_csv('VOLTAS.csv')\n",
    "stock['VOLTAS']=voltas['Close Price']\n",
    "\n",
    "# Small Caps\n",
    "\n",
    "ashoka=pd.read_csv('ASHOKA.csv')\n",
    "stock['ASHOKA']=ashoka['Close Price']\n",
    "\n",
    "bajaelec=pd.read_csv('BAJAJELEC.csv')\n",
    "stock['BAJAJELEC']=bajaelec['Close Price']\n",
    "\n",
    "bomdyeing=pd.read_csv('BOMDYEING.csv')\n",
    "stock['BOMDYEING']=bomdyeing['Close Price']\n",
    "\n",
    "centuryply=pd.read_csv('CENTURYPLY.csv')\n",
    "stock['CENTURYPLY']=centuryply['Close Price']\n",
    "\n",
    "fortis=pd.read_csv('FORTIS.csv')\n",
    "stock['FORTIS']=fortis['Close Price']\n",
    "\n",
    "gujalkali=pd.read_csv('GUJALKALI.csv')\n",
    "stock['GUJALKALI']=gujalkali['Close Price']\n",
    "\n",
    "idfc=pd.read_csv('IDFC.csv')\n",
    "stock['IDFC']=idfc['Close Price']\n",
    "\n",
    "ircon=pd.read_csv('IRCON.csv')\n",
    "stock['IRCON']=ircon['Close Price']\n",
    "\n",
    "itdc=pd.read_csv('ITDC.csv')\n",
    "stock['ITDC']=itdc['Close Price']\n",
    "\n",
    "jetairways=pd.read_csv('JETAIRWAYS.csv')\n",
    "stock['JETAIRWAYS']=jetairways['Close Price']\n",
    "\n",
    "stock['Date']=jetairways['Date']\n",
    "stock['Date']=pd.to_datetime(stock['Date'])\n",
    "stock.set_index('Date',inplace=True)"
   ]
  },
  {
   "cell_type": "code",
   "execution_count": 2,
   "metadata": {},
   "outputs": [
    {
     "data": {
      "text/html": [
       "<div>\n",
       "<style scoped>\n",
       "    .dataframe tbody tr th:only-of-type {\n",
       "        vertical-align: middle;\n",
       "    }\n",
       "\n",
       "    .dataframe tbody tr th {\n",
       "        vertical-align: top;\n",
       "    }\n",
       "\n",
       "    .dataframe thead th {\n",
       "        text-align: right;\n",
       "    }\n",
       "</style>\n",
       "<table border=\"1\" class=\"dataframe\">\n",
       "  <thead>\n",
       "    <tr style=\"text-align: right;\">\n",
       "      <th></th>\n",
       "      <th>ADANIPORTS</th>\n",
       "      <th>ASIANPAINT</th>\n",
       "      <th>AXISBANK</th>\n",
       "      <th>BAJFINANCE</th>\n",
       "      <th>BPCL</th>\n",
       "      <th>CIPLA</th>\n",
       "      <th>DRREDDY</th>\n",
       "      <th>EICHERMOT</th>\n",
       "      <th>GAIL</th>\n",
       "      <th>HDFC</th>\n",
       "      <th>...</th>\n",
       "      <th>ASHOKA</th>\n",
       "      <th>BAJAJELEC</th>\n",
       "      <th>BOMDYEING</th>\n",
       "      <th>CENTURYPLY</th>\n",
       "      <th>FORTIS</th>\n",
       "      <th>GUJALKALI</th>\n",
       "      <th>IDFC</th>\n",
       "      <th>IRCON</th>\n",
       "      <th>ITDC</th>\n",
       "      <th>JETAIRWAYS</th>\n",
       "    </tr>\n",
       "    <tr>\n",
       "      <th>Date</th>\n",
       "      <th></th>\n",
       "      <th></th>\n",
       "      <th></th>\n",
       "      <th></th>\n",
       "      <th></th>\n",
       "      <th></th>\n",
       "      <th></th>\n",
       "      <th></th>\n",
       "      <th></th>\n",
       "      <th></th>\n",
       "      <th></th>\n",
       "      <th></th>\n",
       "      <th></th>\n",
       "      <th></th>\n",
       "      <th></th>\n",
       "      <th></th>\n",
       "      <th></th>\n",
       "      <th></th>\n",
       "      <th></th>\n",
       "      <th></th>\n",
       "      <th></th>\n",
       "    </tr>\n",
       "  </thead>\n",
       "  <tbody>\n",
       "    <tr>\n",
       "      <th>2017-05-15</th>\n",
       "      <td>356.20</td>\n",
       "      <td>1148.05</td>\n",
       "      <td>500.1</td>\n",
       "      <td>1332.95</td>\n",
       "      <td>727.85</td>\n",
       "      <td>569.00</td>\n",
       "      <td>2675.80</td>\n",
       "      <td>28930.60</td>\n",
       "      <td>414.00</td>\n",
       "      <td>1559.50</td>\n",
       "      <td>...</td>\n",
       "      <td>216.05</td>\n",
       "      <td>341.15</td>\n",
       "      <td>82.20</td>\n",
       "      <td>266.65</td>\n",
       "      <td>205.25</td>\n",
       "      <td>457.35</td>\n",
       "      <td>63.70</td>\n",
       "      <td>415.3</td>\n",
       "      <td>650.15</td>\n",
       "      <td>527.50</td>\n",
       "    </tr>\n",
       "    <tr>\n",
       "      <th>2017-05-16</th>\n",
       "      <td>354.50</td>\n",
       "      <td>1142.85</td>\n",
       "      <td>501.5</td>\n",
       "      <td>1347.75</td>\n",
       "      <td>733.30</td>\n",
       "      <td>565.60</td>\n",
       "      <td>2724.10</td>\n",
       "      <td>29362.50</td>\n",
       "      <td>411.40</td>\n",
       "      <td>205.00</td>\n",
       "      <td>...</td>\n",
       "      <td>214.90</td>\n",
       "      <td>347.00</td>\n",
       "      <td>83.40</td>\n",
       "      <td>266.10</td>\n",
       "      <td>207.90</td>\n",
       "      <td>455.25</td>\n",
       "      <td>64.25</td>\n",
       "      <td>427.0</td>\n",
       "      <td>636.70</td>\n",
       "      <td>534.15</td>\n",
       "    </tr>\n",
       "    <tr>\n",
       "      <th>2017-05-17</th>\n",
       "      <td>348.55</td>\n",
       "      <td>1154.95</td>\n",
       "      <td>502.8</td>\n",
       "      <td>1324.80</td>\n",
       "      <td>727.45</td>\n",
       "      <td>562.35</td>\n",
       "      <td>2736.90</td>\n",
       "      <td>29093.55</td>\n",
       "      <td>408.30</td>\n",
       "      <td>1566.55</td>\n",
       "      <td>...</td>\n",
       "      <td>217.00</td>\n",
       "      <td>349.85</td>\n",
       "      <td>82.25</td>\n",
       "      <td>264.85</td>\n",
       "      <td>205.90</td>\n",
       "      <td>472.65</td>\n",
       "      <td>63.35</td>\n",
       "      <td>421.4</td>\n",
       "      <td>626.75</td>\n",
       "      <td>528.90</td>\n",
       "    </tr>\n",
       "    <tr>\n",
       "      <th>2017-05-18</th>\n",
       "      <td>347.90</td>\n",
       "      <td>1151.35</td>\n",
       "      <td>492.0</td>\n",
       "      <td>1314.55</td>\n",
       "      <td>714.90</td>\n",
       "      <td>560.10</td>\n",
       "      <td>2678.95</td>\n",
       "      <td>28357.30</td>\n",
       "      <td>404.75</td>\n",
       "      <td>1552.50</td>\n",
       "      <td>...</td>\n",
       "      <td>209.65</td>\n",
       "      <td>334.10</td>\n",
       "      <td>78.95</td>\n",
       "      <td>260.35</td>\n",
       "      <td>196.85</td>\n",
       "      <td>461.85</td>\n",
       "      <td>61.50</td>\n",
       "      <td>407.1</td>\n",
       "      <td>604.65</td>\n",
       "      <td>522.70</td>\n",
       "    </tr>\n",
       "    <tr>\n",
       "      <th>2017-05-19</th>\n",
       "      <td>349.45</td>\n",
       "      <td>1123.15</td>\n",
       "      <td>501.7</td>\n",
       "      <td>1289.15</td>\n",
       "      <td>702.45</td>\n",
       "      <td>564.95</td>\n",
       "      <td>2656.45</td>\n",
       "      <td>27936.05</td>\n",
       "      <td>401.05</td>\n",
       "      <td>207.00</td>\n",
       "      <td>...</td>\n",
       "      <td>206.25</td>\n",
       "      <td>336.20</td>\n",
       "      <td>77.15</td>\n",
       "      <td>254.05</td>\n",
       "      <td>203.55</td>\n",
       "      <td>455.35</td>\n",
       "      <td>61.15</td>\n",
       "      <td>399.8</td>\n",
       "      <td>594.30</td>\n",
       "      <td>520.40</td>\n",
       "    </tr>\n",
       "  </tbody>\n",
       "</table>\n",
       "<p>5 rows × 30 columns</p>\n",
       "</div>"
      ],
      "text/plain": [
       "            ADANIPORTS  ASIANPAINT  AXISBANK  BAJFINANCE    BPCL   CIPLA  \\\n",
       "Date                                                                       \n",
       "2017-05-15      356.20     1148.05     500.1     1332.95  727.85  569.00   \n",
       "2017-05-16      354.50     1142.85     501.5     1347.75  733.30  565.60   \n",
       "2017-05-17      348.55     1154.95     502.8     1324.80  727.45  562.35   \n",
       "2017-05-18      347.90     1151.35     492.0     1314.55  714.90  560.10   \n",
       "2017-05-19      349.45     1123.15     501.7     1289.15  702.45  564.95   \n",
       "\n",
       "            DRREDDY  EICHERMOT    GAIL     HDFC  ...  ASHOKA  BAJAJELEC  \\\n",
       "Date                                             ...                      \n",
       "2017-05-15  2675.80   28930.60  414.00  1559.50  ...  216.05     341.15   \n",
       "2017-05-16  2724.10   29362.50  411.40   205.00  ...  214.90     347.00   \n",
       "2017-05-17  2736.90   29093.55  408.30  1566.55  ...  217.00     349.85   \n",
       "2017-05-18  2678.95   28357.30  404.75  1552.50  ...  209.65     334.10   \n",
       "2017-05-19  2656.45   27936.05  401.05   207.00  ...  206.25     336.20   \n",
       "\n",
       "            BOMDYEING  CENTURYPLY  FORTIS  GUJALKALI   IDFC  IRCON    ITDC  \\\n",
       "Date                                                                         \n",
       "2017-05-15      82.20      266.65  205.25     457.35  63.70  415.3  650.15   \n",
       "2017-05-16      83.40      266.10  207.90     455.25  64.25  427.0  636.70   \n",
       "2017-05-17      82.25      264.85  205.90     472.65  63.35  421.4  626.75   \n",
       "2017-05-18      78.95      260.35  196.85     461.85  61.50  407.1  604.65   \n",
       "2017-05-19      77.15      254.05  203.55     455.35  61.15  399.8  594.30   \n",
       "\n",
       "            JETAIRWAYS  \n",
       "Date                    \n",
       "2017-05-15      527.50  \n",
       "2017-05-16      534.15  \n",
       "2017-05-17      528.90  \n",
       "2017-05-18      522.70  \n",
       "2017-05-19      520.40  \n",
       "\n",
       "[5 rows x 30 columns]"
      ]
     },
     "execution_count": 2,
     "metadata": {},
     "output_type": "execute_result"
    }
   ],
   "source": [
    "stock.head()"
   ]
  },
  {
   "cell_type": "markdown",
   "metadata": {},
   "source": [
    "### Calculate average annual percentage return and volatility of all 30 stocks over a theoretical one year period"
   ]
  },
  {
   "cell_type": "code",
   "execution_count": 3,
   "metadata": {},
   "outputs": [
    {
     "data": {
      "text/html": [
       "<div>\n",
       "<style scoped>\n",
       "    .dataframe tbody tr th:only-of-type {\n",
       "        vertical-align: middle;\n",
       "    }\n",
       "\n",
       "    .dataframe tbody tr th {\n",
       "        vertical-align: top;\n",
       "    }\n",
       "\n",
       "    .dataframe thead th {\n",
       "        text-align: right;\n",
       "    }\n",
       "</style>\n",
       "<table border=\"1\" class=\"dataframe\">\n",
       "  <thead>\n",
       "    <tr style=\"text-align: right;\">\n",
       "      <th></th>\n",
       "      <th>Returns</th>\n",
       "      <th>Volatility</th>\n",
       "    </tr>\n",
       "  </thead>\n",
       "  <tbody>\n",
       "    <tr>\n",
       "      <th>ADANIPORTS</th>\n",
       "      <td>0.248830</td>\n",
       "      <td>0.263183</td>\n",
       "    </tr>\n",
       "    <tr>\n",
       "      <th>ASIANPAINT</th>\n",
       "      <td>0.001428</td>\n",
       "      <td>0.188060</td>\n",
       "    </tr>\n",
       "    <tr>\n",
       "      <th>AXISBANK</th>\n",
       "      <td>0.191072</td>\n",
       "      <td>0.266435</td>\n",
       "    </tr>\n",
       "    <tr>\n",
       "      <th>BAJFINANCE</th>\n",
       "      <td>0.509863</td>\n",
       "      <td>0.303276</td>\n",
       "    </tr>\n",
       "    <tr>\n",
       "      <th>BPCL</th>\n",
       "      <td>-0.390129</td>\n",
       "      <td>0.506139</td>\n",
       "    </tr>\n",
       "    <tr>\n",
       "      <th>CIPLA</th>\n",
       "      <td>0.102239</td>\n",
       "      <td>0.271144</td>\n",
       "    </tr>\n",
       "    <tr>\n",
       "      <th>DRREDDY</th>\n",
       "      <td>-0.135267</td>\n",
       "      <td>0.321768</td>\n",
       "    </tr>\n",
       "    <tr>\n",
       "      <th>EICHERMOT</th>\n",
       "      <td>0.081510</td>\n",
       "      <td>0.227154</td>\n",
       "    </tr>\n",
       "    <tr>\n",
       "      <th>GAIL</th>\n",
       "      <td>0.343332</td>\n",
       "      <td>0.284225</td>\n",
       "    </tr>\n",
       "    <tr>\n",
       "      <th>HDFC</th>\n",
       "      <td>545.109735</td>\n",
       "      <td>48.925656</td>\n",
       "    </tr>\n",
       "    <tr>\n",
       "      <th>MRPL</th>\n",
       "      <td>-0.084480</td>\n",
       "      <td>0.359268</td>\n",
       "    </tr>\n",
       "    <tr>\n",
       "      <th>MUTHOOTFIN</th>\n",
       "      <td>111.054177</td>\n",
       "      <td>18.234745</td>\n",
       "    </tr>\n",
       "    <tr>\n",
       "      <th>NBCC</th>\n",
       "      <td>0.438541</td>\n",
       "      <td>0.308619</td>\n",
       "    </tr>\n",
       "    <tr>\n",
       "      <th>PNB</th>\n",
       "      <td>0.324857</td>\n",
       "      <td>0.708476</td>\n",
       "    </tr>\n",
       "    <tr>\n",
       "      <th>RBLBANK</th>\n",
       "      <td>-0.152965</td>\n",
       "      <td>0.227492</td>\n",
       "    </tr>\n",
       "    <tr>\n",
       "      <th>RELINFRA</th>\n",
       "      <td>-0.453718</td>\n",
       "      <td>0.361740</td>\n",
       "    </tr>\n",
       "    <tr>\n",
       "      <th>SUNTV</th>\n",
       "      <td>0.129259</td>\n",
       "      <td>0.346028</td>\n",
       "    </tr>\n",
       "    <tr>\n",
       "      <th>TATACHEM</th>\n",
       "      <td>0.250370</td>\n",
       "      <td>0.246637</td>\n",
       "    </tr>\n",
       "    <tr>\n",
       "      <th>TATAPOWER</th>\n",
       "      <td>0.175810</td>\n",
       "      <td>0.248390</td>\n",
       "    </tr>\n",
       "    <tr>\n",
       "      <th>VOLTAS</th>\n",
       "      <td>0.688500</td>\n",
       "      <td>0.334858</td>\n",
       "    </tr>\n",
       "    <tr>\n",
       "      <th>ASHOKA</th>\n",
       "      <td>0.247757</td>\n",
       "      <td>0.361509</td>\n",
       "    </tr>\n",
       "    <tr>\n",
       "      <th>BAJAJELEC</th>\n",
       "      <td>0.646189</td>\n",
       "      <td>0.409396</td>\n",
       "    </tr>\n",
       "    <tr>\n",
       "      <th>BOMDYEING</th>\n",
       "      <td>2.278217</td>\n",
       "      <td>0.649823</td>\n",
       "    </tr>\n",
       "    <tr>\n",
       "      <th>CENTURYPLY</th>\n",
       "      <td>0.437633</td>\n",
       "      <td>0.336111</td>\n",
       "    </tr>\n",
       "    <tr>\n",
       "      <th>FORTIS</th>\n",
       "      <td>-0.587881</td>\n",
       "      <td>0.461533</td>\n",
       "    </tr>\n",
       "    <tr>\n",
       "      <th>GUJALKALI</th>\n",
       "      <td>0.921068</td>\n",
       "      <td>0.448898</td>\n",
       "    </tr>\n",
       "    <tr>\n",
       "      <th>IDFC</th>\n",
       "      <td>-0.105036</td>\n",
       "      <td>0.332030</td>\n",
       "    </tr>\n",
       "    <tr>\n",
       "      <th>IRCON</th>\n",
       "      <td>-0.079240</td>\n",
       "      <td>0.301518</td>\n",
       "    </tr>\n",
       "    <tr>\n",
       "      <th>ITDC</th>\n",
       "      <td>-0.255867</td>\n",
       "      <td>0.524879</td>\n",
       "    </tr>\n",
       "    <tr>\n",
       "      <th>JETAIRWAYS</th>\n",
       "      <td>0.548230</td>\n",
       "      <td>0.421530</td>\n",
       "    </tr>\n",
       "  </tbody>\n",
       "</table>\n",
       "</div>"
      ],
      "text/plain": [
       "               Returns  Volatility\n",
       "ADANIPORTS    0.248830    0.263183\n",
       "ASIANPAINT    0.001428    0.188060\n",
       "AXISBANK      0.191072    0.266435\n",
       "BAJFINANCE    0.509863    0.303276\n",
       "BPCL         -0.390129    0.506139\n",
       "CIPLA         0.102239    0.271144\n",
       "DRREDDY      -0.135267    0.321768\n",
       "EICHERMOT     0.081510    0.227154\n",
       "GAIL          0.343332    0.284225\n",
       "HDFC        545.109735   48.925656\n",
       "MRPL         -0.084480    0.359268\n",
       "MUTHOOTFIN  111.054177   18.234745\n",
       "NBCC          0.438541    0.308619\n",
       "PNB           0.324857    0.708476\n",
       "RBLBANK      -0.152965    0.227492\n",
       "RELINFRA     -0.453718    0.361740\n",
       "SUNTV         0.129259    0.346028\n",
       "TATACHEM      0.250370    0.246637\n",
       "TATAPOWER     0.175810    0.248390\n",
       "VOLTAS        0.688500    0.334858\n",
       "ASHOKA        0.247757    0.361509\n",
       "BAJAJELEC     0.646189    0.409396\n",
       "BOMDYEING     2.278217    0.649823\n",
       "CENTURYPLY    0.437633    0.336111\n",
       "FORTIS       -0.587881    0.461533\n",
       "GUJALKALI     0.921068    0.448898\n",
       "IDFC         -0.105036    0.332030\n",
       "IRCON        -0.079240    0.301518\n",
       "ITDC         -0.255867    0.524879\n",
       "JETAIRWAYS    0.548230    0.421530"
      ]
     },
     "execution_count": 3,
     "metadata": {},
     "output_type": "execute_result"
    }
   ],
   "source": [
    "from math import sqrt\n",
    "stock=stock.dropna()\n",
    "col=['Returns','Volatility']\n",
    "returns=pd.DataFrame(columns=col)\n",
    "\n",
    "returns['Returns']=stock.pct_change().mean()*252\n",
    "returns['Volatility']=stock.pct_change().std()*sqrt(252)\n",
    "returns"
   ]
  },
  {
   "cell_type": "markdown",
   "metadata": {},
   "source": [
    "### Cluster the 30 stocks according to their mean annual Volatilities and Returns using K-means clustering. Identify the optimum number of clusters using the Elbow curve method"
   ]
  },
  {
   "cell_type": "code",
   "execution_count": 4,
   "metadata": {},
   "outputs": [
    {
     "data": {
      "text/plain": [
       "KMeans(algorithm='auto', copy_x=True, init='k-means++', max_iter=300,\n",
       "       n_clusters=2, n_init=10, n_jobs=None, precompute_distances='auto',\n",
       "       random_state=None, tol=0.0001, verbose=0)"
      ]
     },
     "execution_count": 4,
     "metadata": {},
     "output_type": "execute_result"
    }
   ],
   "source": [
    "from sklearn.cluster import KMeans\n",
    "import matplotlib.pyplot as plt\n",
    "\n",
    "kmeans=KMeans(n_clusters=2)\n",
    "kmeans.fit(returns)\n"
   ]
  },
  {
   "cell_type": "code",
   "execution_count": 5,
   "metadata": {},
   "outputs": [
    {
     "data": {
      "text/plain": [
       "(array([0, 0, 0, 0, 0, 0, 0, 0, 0, 1, 0, 0, 0, 0, 0, 0, 0, 0, 0, 0, 0, 0,\n",
       "        0, 0, 0, 0, 0, 0, 0, 0]),\n",
       " 12176.166995014994)"
      ]
     },
     "execution_count": 5,
     "metadata": {},
     "output_type": "execute_result"
    }
   ],
   "source": [
    "pred=kmeans.predict(returns)\n",
    "pred,kmeans.inertia_"
   ]
  },
  {
   "cell_type": "code",
   "execution_count": 6,
   "metadata": {},
   "outputs": [],
   "source": [
    "SSE=[]\n",
    "for cluster in range(1,20):\n",
    "    kmeans=KMeans(n_clusters=cluster)\n",
    "    kmeans.fit(returns)\n",
    "    SSE.append(kmeans.inertia_)"
   ]
  },
  {
   "cell_type": "code",
   "execution_count": 7,
   "metadata": {},
   "outputs": [],
   "source": [
    "error_frame=pd.DataFrame({\n",
    "    'Cluster':range(1,20),\n",
    "    'SSE':SSE,\n",
    "})"
   ]
  },
  {
   "cell_type": "code",
   "execution_count": 8,
   "metadata": {},
   "outputs": [
    {
     "data": {
      "image/png": "[encoded data removed]",
      "text/plain": [
       "<Figure size 1440x720 with 1 Axes>"
      ]
     },
     "metadata": {
      "needs_background": "light"
     },
     "output_type": "display_data"
    }
   ],
   "source": [
    "plt.figure(figsize=(20,10))\n",
    "plt.plot(error_frame['Cluster'],error_frame['SSE'],marker='o')\n",
    "plt.xlabel('Number of Cluster')\n",
    "plt.ylabel('SSE')\n",
    "plt.show()"
   ]
  },
  {
   "cell_type": "markdown",
   "metadata": {},
   "source": [
    "### Prepare a separate Data frame to show which stocks belong to the same cluster"
   ]
  },
  {
   "cell_type": "code",
   "execution_count": 35,
   "metadata": {},
   "outputs": [
    {
     "data": {
      "text/plain": [
       "<matplotlib.collections.PathCollection at 0x24c0cd36be0>"
      ]
     },
     "execution_count": 35,
     "metadata": {},
     "output_type": "execute_result"
    },
    {
     "data": {
      "image/png": "[encoded data removed]",
      "text/plain": [
       "<Figure size 432x288 with 1 Axes>"
      ]
     },
     "metadata": {
      "needs_background": "light"
     },
     "output_type": "display_data"
    }
   ],
   "source": [
    "plt.scatter(returns['Returns'],returns['Volatility'],color='black')"
   ]
  },
  {
   "cell_type": "code",
   "execution_count": 16,
   "metadata": {},
   "outputs": [
    {
     "data": {
      "image/png": "[encoded data removed]",
      "text/plain": [
       "<Figure size 432x288 with 1 Axes>"
      ]
     },
     "metadata": {
      "needs_background": "light"
     },
     "output_type": "display_data"
    }
   ],
   "source": [
    "# Computing with k=3 \n",
    "k=5\n",
    "Centroids=(returns.sample(n=k))\n",
    "plt.scatter(returns['Returns'],returns['Volatility'],color='black')\n",
    "plt.scatter(Centroids['Returns'],Centroids['Volatility'],color='red')\n",
    "plt.show()\n"
   ]
  },
  {
   "cell_type": "code",
   "execution_count": 17,
   "metadata": {},
   "outputs": [],
   "source": [
    "# step 2 --> Assign all the poits to the closest cluster\n",
    "# step 3 --> Recompute centroids of newly formed clusters\n",
    "# step 4 --> Repeat steps "
   ]
  },
  {
   "cell_type": "code",
   "execution_count": 18,
   "metadata": {},
   "outputs": [],
   "source": [
    "diff=1\n",
    "j=0"
   ]
  },
  {
   "cell_type": "code",
   "execution_count": 19,
   "metadata": {},
   "outputs": [
    {
     "name": "stdout",
     "output_type": "stream",
     "text": [
      "251.05268509426054\n",
      "109.9637203114967\n",
      "0.21303752067132753\n",
      "0.1902355841054199\n",
      "0.07511774258735056\n",
      "0.06147564231811162\n",
      "0.18928651474059943\n",
      "0.12873196828429928\n",
      "0.150154877477347\n",
      "0.20649157253754458\n",
      "0.46878316658337554\n",
      "0.9361343481809348\n",
      "0.035071568431084804\n",
      "0.0\n"
     ]
    }
   ],
   "source": [
    "while(diff!=0):\n",
    "    XD=returns\n",
    "    i=1\n",
    "    for index1,row_c in Centroids.iterrows():\n",
    "        ED=[]\n",
    "        for index2,row_d in XD.iterrows():\n",
    "            d1=(row_c['Returns']-row_d['Returns'])**2\n",
    "            d2=(row_c['Volatility']-row_d['Volatility'])**2\n",
    "            d=np.sqrt(d1+d2)\n",
    "            ED.append(d)\n",
    "        returns[i]=ED\n",
    "        i=i+1\n",
    "    c=[]\n",
    "    for index,row in returns.iterrows():\n",
    "        min_dist=row[1]\n",
    "        pos=1\n",
    "        for i in range(k):\n",
    "            if row[i+1]<min_dist:\n",
    "                min_dist=row[i+1]\n",
    "                pos=i+1\n",
    "        c.append(pos)\n",
    "    returns['Clusters']=c\n",
    "    Centroids_new=returns.groupby(['Clusters']).mean()[['Volatility','Returns']]\n",
    "    if j==0:\n",
    "        diff=1\n",
    "        j=j+1\n",
    "    else:\n",
    "        diff=(Centroids_new['Volatility']-Centroids['Volatility']).sum()+(Centroids_new['Returns']-Centroids['Returns']).sum()\n",
    "        print(diff.sum())\n",
    "    Centroids=returns.groupby(['Clusters']).mean()[['Volatility','Returns']]"
   ]
  },
  {
   "cell_type": "code",
   "execution_count": 21,
   "metadata": {},
   "outputs": [
    {
     "data": {
      "image/png": "[encoded data removed]",
      "text/plain": [
       "<Figure size 432x288 with 1 Axes>"
      ]
     },
     "metadata": {
      "needs_background": "light"
     },
     "output_type": "display_data"
    }
   ],
   "source": [
    "colors=['black','green','red','blue','yellow']\n",
    "for k in range(k):\n",
    "    df=returns[returns['Clusters']==k+1]\n",
    "    plt.scatter(df['Returns'],df['Volatility'],c=colors[k])\n",
    "plt.scatter(Centroids['Returns'],Centroids['Volatility'],c='blue')\n",
    "plt.show()"
   ]
  },
  {
   "cell_type": "code",
   "execution_count": null,
   "metadata": {},
   "outputs": [],
   "source": []
  },
  {
   "cell_type": "code",
   "execution_count": 23,
   "metadata": {},
   "outputs": [
    {
     "data": {
      "text/plain": [
       "(array([3, 0, 3, 3, 0, 3, 0, 3, 3, 1, 0, 2, 3, 3, 0, 0, 3, 3, 3, 3, 3, 3,\n",
       "        4, 3, 0, 3, 0, 0, 0, 3]),\n",
       " 6.627909870506689)"
      ]
     },
     "execution_count": 23,
     "metadata": {},
     "output_type": "execute_result"
    }
   ],
   "source": [
    "# Setting k=5\n",
    "\n",
    "kmeans=KMeans(n_clusters=5)\n",
    "kmeans.fit(returns)\n",
    "pred=kmeans.predict(returns)\n",
    "pred,kmeans.inertia_"
   ]
  },
  {
   "cell_type": "code",
   "execution_count": null,
   "metadata": {},
   "outputs": [],
   "source": []
  },
  {
   "cell_type": "code",
   "execution_count": null,
   "metadata": {},
   "outputs": [],
   "source": []
  },
  {
   "cell_type": "code",
   "execution_count": null,
   "metadata": {},
   "outputs": [],
   "source": []
  }
 ],
 "metadata": {
  "kernelspec": {
   "display_name": "Python 3",
   "language": "python",
   "name": "python3"
  },
  "language_info": {
   "codemirror_mode": {
    "name": "ipython",
    "version": 3
   },
   "file_extension": ".py",
   "mimetype": "text/x-python",
   "name": "python",
   "nbconvert_exporter": "python",
   "pygments_lexer": "ipython3",
   "version": "3.7.3"
  },
  "toc": {
   "base_numbering": 1,
   "nav_menu": {},
   "number_sections": true,
   "sideBar": true,
   "skip_h1_title": false,
   "title_cell": "Table of Contents",
   "title_sidebar": "Contents",
   "toc_cell": false,
   "toc_position": {},
   "toc_section_display": true,
   "toc_window_display": false
  },
  "varInspector": {
   "cols": {
    "lenName": 16,
    "lenType": 16,
    "lenVar": 40
   },
   "kernels_config": {
    "python": {
     "delete_cmd_postfix": "",
     "delete_cmd_prefix": "del ",
     "library": "var_list.py",
     "varRefreshCmd": "print(var_dic_list())"
    },
    "r": {
     "delete_cmd_postfix": ") ",
     "delete_cmd_prefix": "rm(",
     "library": "var_list.r",
     "varRefreshCmd": "cat(var_dic_list()) "
    }
   },
   "types_to_exclude": [
    "module",
    "function",
    "builtin_function_or_method",
    "instance",
    "_Feature"
   ],
   "window_display": false
  }
 },
 "nbformat": 4,
 "nbformat_minor": 4
}
